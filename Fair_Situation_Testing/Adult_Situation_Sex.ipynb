{
 "cells": [
  {
   "cell_type": "code",
   "execution_count": 1,
   "metadata": {},
   "outputs": [],
   "source": [
    "import pandas as pd\n",
    "import random,time,csv\n",
    "import numpy as np\n",
    "import math,copy,os\n",
    "from sklearn.linear_model import LogisticRegression\n",
    "from sklearn.tree import DecisionTreeRegressor\n",
    "from sklearn.model_selection import train_test_split\n",
    "from sklearn.metrics import classification_report, confusion_matrix, accuracy_score\n",
    "from sklearn import tree\n",
    "from sklearn.naive_bayes import GaussianNB\n",
    "from sklearn.ensemble import RandomForestClassifier\n",
    "from sklearn.svm import SVC\n",
    "import sklearn.metrics as metrics\n",
    "\n",
    "\n",
    "import sys\n",
    "sys.path.append(os.path.abspath('..'))\n",
    "\n",
    "from SMOTE import smote\n",
    "from Measure import measure_final_score,calculate_recall,calculate_far,calculate_precision,calculate_accuracy\n",
    "from Generate_Samples import generate_samples"
   ]
  },
  {
   "cell_type": "markdown",
   "metadata": {},
   "source": [
    "# Load Dataset"
   ]
  },
  {
   "cell_type": "code",
   "execution_count": 2,
   "metadata": {},
   "outputs": [],
   "source": [
    "## Load dataset\n",
    "from sklearn import preprocessing\n",
    "dataset_orig = pd.read_csv('../data/adult.data.csv')\n",
    "\n",
    "## Drop NULL values\n",
    "dataset_orig = dataset_orig.dropna()\n",
    "\n",
    "## Drop categorical features\n",
    "dataset_orig = dataset_orig.drop(['workclass','fnlwgt','education','marital-status','occupation','relationship','native-country'],axis=1)\n",
    "\n",
    "## Change symbolics to numerics\n",
    "dataset_orig['sex'] = np.where(dataset_orig['sex'] == ' Male', 1, 0)\n",
    "dataset_orig['race'] = np.where(dataset_orig['race'] != ' White', 0, 1)\n",
    "dataset_orig['Probability'] = np.where(dataset_orig['Probability'] == ' <=50K', 0, 1)\n",
    "\n",
    "\n",
    "## Discretize age\n",
    "dataset_orig['age'] = np.where(dataset_orig['age'] >= 70, 70, dataset_orig['age'])\n",
    "dataset_orig['age'] = np.where((dataset_orig['age'] >= 60 ) & (dataset_orig['age'] < 70), 60, dataset_orig['age'])\n",
    "dataset_orig['age'] = np.where((dataset_orig['age'] >= 50 ) & (dataset_orig['age'] < 60), 50, dataset_orig['age'])\n",
    "dataset_orig['age'] = np.where((dataset_orig['age'] >= 40 ) & (dataset_orig['age'] < 50), 40, dataset_orig['age'])\n",
    "dataset_orig['age'] = np.where((dataset_orig['age'] >= 30 ) & (dataset_orig['age'] < 40), 30, dataset_orig['age'])\n",
    "dataset_orig['age'] = np.where((dataset_orig['age'] >= 20 ) & (dataset_orig['age'] < 30), 20, dataset_orig['age'])\n",
    "dataset_orig['age'] = np.where((dataset_orig['age'] >= 10 ) & (dataset_orig['age'] < 10), 10, dataset_orig['age'])\n",
    "dataset_orig['age'] = np.where(dataset_orig['age'] < 10, 0, dataset_orig['age'])\n",
    "\n",
    "protected_attribute = 'sex'\n",
    "\n",
    "from sklearn.preprocessing import MinMaxScaler\n",
    "\n",
    "scaler = MinMaxScaler()\n",
    "dataset_orig = pd.DataFrame(scaler.fit_transform(dataset_orig),columns = dataset_orig.columns)\n",
    "\n",
    "\n",
    "dataset_orig_train, dataset_orig_test = train_test_split(dataset_orig, test_size=0.2,shuffle = True)\n",
    "# dataset_orig"
   ]
  },
  {
   "cell_type": "markdown",
   "metadata": {},
   "source": [
    "# Check Original Score"
   ]
  },
  {
   "cell_type": "code",
   "execution_count": 3,
   "metadata": {},
   "outputs": [
    {
     "name": "stdout",
     "output_type": "stream",
     "text": [
      "recall : 0.42\n",
      "far : 0.05\n",
      "precision : 0.72\n",
      "accuracy : 0.82\n",
      "F1 Score : 0.53\n",
      "aod :sex 0.11\n",
      "eod :sex 0.28\n",
      "SPD: 0.16\n",
      "DI: 0.85\n"
     ]
    }
   ],
   "source": [
    "X_train, y_train = dataset_orig_train.loc[:, dataset_orig_train.columns != 'Probability'], dataset_orig_train['Probability']\n",
    "X_test , y_test = dataset_orig_test.loc[:, dataset_orig_test.columns != 'Probability'], dataset_orig_test['Probability']\n",
    "\n",
    "clf = LogisticRegression(C=1.0, penalty='l2', solver='liblinear', max_iter=100)\n",
    "\n",
    "\n",
    "print(\"recall :\", measure_final_score(dataset_orig_test, clf, X_train, y_train, X_test, y_test, protected_attribute, 'recall'))\n",
    "print(\"far :\",measure_final_score(dataset_orig_test, clf, X_train, y_train, X_test, y_test, protected_attribute, 'far'))\n",
    "print(\"precision :\", measure_final_score(dataset_orig_test, clf, X_train, y_train, X_test, y_test, protected_attribute, 'precision'))\n",
    "print(\"accuracy :\",measure_final_score(dataset_orig_test, clf, X_train, y_train, X_test, y_test, protected_attribute, 'accuracy'))\n",
    "print(\"F1 Score :\",measure_final_score(dataset_orig_test, clf, X_train, y_train, X_test, y_test, protected_attribute, 'F1'))\n",
    "print(\"aod :\"+protected_attribute,measure_final_score(dataset_orig_test, clf, X_train, y_train, X_test, y_test, protected_attribute, 'aod'))\n",
    "print(\"eod :\"+protected_attribute,measure_final_score(dataset_orig_test, clf, X_train, y_train, X_test, y_test, protected_attribute, 'eod'))\n",
    "\n",
    "print(\"SPD:\",measure_final_score(dataset_orig_test, clf, X_train, y_train, X_test, y_test, protected_attribute, 'SPD'))\n",
    "print(\"DI:\",measure_final_score(dataset_orig_test, clf, X_train, y_train, X_test, y_test, protected_attribute, 'DI'))"
   ]
  },
  {
   "cell_type": "markdown",
   "metadata": {},
   "source": [
    "## check flip rate:"
   ]
  },
  {
   "cell_type": "code",
   "execution_count": 4,
   "metadata": {},
   "outputs": [
    {
     "data": {
      "text/plain": [
       "4218"
      ]
     },
     "execution_count": 4,
     "metadata": {},
     "output_type": "execute_result"
    }
   ],
   "source": [
    "clf = LogisticRegression(C=1.0, penalty='l2', solver='liblinear', max_iter=100) # LSR\n",
    "clf.fit(X_train, y_train)\n",
    "\n",
    "X_train_flipped = X_train.copy()\n",
    "X_train_flipped['sex'] = 1 - X_train['sex']\n",
    "\n",
    "y_org = clf.predict(X_train)\n",
    "y_flp = clf.predict(X_train_flipped)\n",
    "\n",
    "mismatches = (y_org != y_flp).sum()\n",
    "mismatches"
   ]
  },
  {
   "cell_type": "code",
   "execution_count": 5,
   "metadata": {},
   "outputs": [
    {
     "data": {
      "text/plain": [
       "1079"
      ]
     },
     "execution_count": 5,
     "metadata": {},
     "output_type": "execute_result"
    }
   ],
   "source": [
    "X_test_flipped = X_test.copy()\n",
    "X_test_flipped['sex'] = 1 - X_test['sex']\n",
    "\n",
    "y_org = clf.predict(X_test)\n",
    "y_flp = clf.predict(X_test_flipped)\n",
    "\n",
    "mismatches = (y_org != y_flp).sum()\n",
    "mismatches"
   ]
  },
  {
   "cell_type": "code",
   "execution_count": 6,
   "metadata": {},
   "outputs": [],
   "source": [
    "from sklearn.ensemble import GradientBoostingClassifier, RandomForestClassifier"
   ]
  },
  {
   "cell_type": "code",
   "execution_count": 7,
   "metadata": {},
   "outputs": [
    {
     "data": {
      "text/plain": [
       "4096"
      ]
     },
     "execution_count": 7,
     "metadata": {},
     "output_type": "execute_result"
    }
   ],
   "source": [
    "clf = GradientBoostingClassifier(n_estimators=50, max_depth=8, random_state=1234)\n",
    "clf.fit(X_train, y_train)\n",
    "\n",
    "X_train_flipped = X_train.copy()\n",
    "X_train_flipped['sex'] = 1 - X_train['sex']\n",
    "\n",
    "y_org = clf.predict(X_train)\n",
    "y_flp = clf.predict(X_train_flipped)\n",
    "\n",
    "mismatches = (y_org != y_flp).sum()\n",
    "mismatches"
   ]
  },
  {
   "cell_type": "code",
   "execution_count": 8,
   "metadata": {},
   "outputs": [
    {
     "data": {
      "text/plain": [
       "1054"
      ]
     },
     "execution_count": 8,
     "metadata": {},
     "output_type": "execute_result"
    }
   ],
   "source": [
    "X_test_flipped = X_test.copy()\n",
    "X_test_flipped['sex'] = 1 - X_test['sex']\n",
    "\n",
    "y_org = clf.predict(X_test)\n",
    "y_flp = clf.predict(X_test_flipped)\n",
    "\n",
    "mismatches = (y_org != y_flp).sum()\n",
    "mismatches"
   ]
  },
  {
   "cell_type": "markdown",
   "metadata": {},
   "source": [
    "# Check SMOTE Scores"
   ]
  },
  {
   "cell_type": "code",
   "execution_count": 9,
   "metadata": {},
   "outputs": [
    {
     "name": "stdout",
     "output_type": "stream",
     "text": [
      "recall : 0.72\n",
      "far : 0.23\n",
      "precision : 0.5\n",
      "accuracy : 0.76\n",
      "F1 Score : 0.59\n",
      "aod :sex 0.05\n",
      "eod :sex 0.39\n",
      "SPD: 0.38\n",
      "DI: 0.81\n"
     ]
    }
   ],
   "source": [
    "def apply_smote(df):\n",
    "    df.reset_index(drop=True,inplace=True)\n",
    "    cols = df.columns\n",
    "    smt = smote(df)\n",
    "    df = smt.run()\n",
    "    df.columns = cols\n",
    "    return df\n",
    "\n",
    "# dataset_orig_train, dataset_orig_test = train_test_split(dataset_orig, test_size=0.2, random_state=0,shuffle = True)\n",
    "\n",
    "X_train, y_train = dataset_orig_train.loc[:, dataset_orig_train.columns != 'Probability'], dataset_orig_train['Probability']\n",
    "X_test , y_test = dataset_orig_test.loc[:, dataset_orig_test.columns != 'Probability'], dataset_orig_test['Probability']\n",
    "\n",
    "train_df = X_train\n",
    "train_df['Probability'] = y_train\n",
    "\n",
    "train_df = apply_smote(train_df)\n",
    "\n",
    "y_train = train_df.Probability\n",
    "X_train = train_df.drop('Probability', axis = 1)\n",
    "\n",
    "# --- LSR\n",
    "clf = LogisticRegression(C=1.0, penalty='l2', solver='liblinear', max_iter=100)\n",
    "\n",
    "print(\"recall :\", measure_final_score(dataset_orig_test, clf, X_train, y_train, X_test, y_test, protected_attribute, 'recall'))\n",
    "print(\"far :\",measure_final_score(dataset_orig_test, clf, X_train, y_train, X_test, y_test, protected_attribute, 'far'))\n",
    "print(\"precision :\", measure_final_score(dataset_orig_test, clf, X_train, y_train, X_test, y_test, protected_attribute, 'precision'))\n",
    "print(\"accuracy :\",measure_final_score(dataset_orig_test, clf, X_train, y_train, X_test, y_test, protected_attribute, 'accuracy'))\n",
    "print(\"F1 Score :\",measure_final_score(dataset_orig_test, clf, X_train, y_train, X_test, y_test, protected_attribute, 'F1'))\n",
    "print(\"aod :\"+protected_attribute,measure_final_score(dataset_orig_test, clf, X_train, y_train, X_test, y_test, protected_attribute, 'aod'))\n",
    "print(\"eod :\"+protected_attribute,measure_final_score(dataset_orig_test, clf, X_train, y_train, X_test, y_test, protected_attribute, 'eod'))\n",
    "\n",
    "print(\"SPD:\",measure_final_score(dataset_orig_test, clf, X_train, y_train, X_test, y_test, protected_attribute, 'SPD'))\n",
    "print(\"DI:\",measure_final_score(dataset_orig_test, clf, X_train, y_train, X_test, y_test, protected_attribute, 'DI'))"
   ]
  },
  {
   "cell_type": "markdown",
   "metadata": {},
   "source": [
    "# Find Class & Protected attribute Distribution"
   ]
  },
  {
   "cell_type": "code",
   "execution_count": 10,
   "metadata": {},
   "outputs": [
    {
     "name": "stdout",
     "output_type": "stream",
     "text": [
      "11545 18177 1416 7935\n"
     ]
    }
   ],
   "source": [
    "# first one is class value and second one is protected attribute value\n",
    "zero_zero = len(dataset_orig_train[(dataset_orig_train['Probability'] == 0) & (dataset_orig_train[protected_attribute] == 0)])\n",
    "zero_one = len(dataset_orig_train[(dataset_orig_train['Probability'] == 0) & (dataset_orig_train[protected_attribute] == 1)])\n",
    "one_zero = len(dataset_orig_train[(dataset_orig_train['Probability'] == 1) & (dataset_orig_train[protected_attribute] == 0)])\n",
    "one_one = len(dataset_orig_train[(dataset_orig_train['Probability'] == 1) & (dataset_orig_train[protected_attribute] == 1)])\n",
    "\n",
    "print(zero_zero,zero_one,one_zero,one_one)"
   ]
  },
  {
   "cell_type": "markdown",
   "metadata": {},
   "source": [
    "# Sort these four"
   ]
  },
  {
   "cell_type": "code",
   "execution_count": 11,
   "metadata": {},
   "outputs": [
    {
     "name": "stdout",
     "output_type": "stream",
     "text": [
      "zero_one is maximum\n"
     ]
    }
   ],
   "source": [
    "maximum = max(zero_zero,zero_one,one_zero,one_one)\n",
    "if maximum == zero_zero:\n",
    "    print(\"zero_zero is maximum\")\n",
    "if maximum == zero_one:\n",
    "    print(\"zero_one is maximum\")\n",
    "if maximum == one_zero:\n",
    "    print(\"one_zero is maximum\")\n",
    "if maximum == one_one:\n",
    "    print(\"one_one is maximum\")"
   ]
  },
  {
   "cell_type": "code",
   "execution_count": 12,
   "metadata": {},
   "outputs": [
    {
     "name": "stdout",
     "output_type": "stream",
     "text": [
      "6632 16761 10242\n"
     ]
    }
   ],
   "source": [
    "zero_zero_to_be_incresed = maximum - zero_zero ## where both are 0\n",
    "one_zero_to_be_incresed = maximum - one_zero ## where class is 1 attribute is 0\n",
    "one_one_to_be_incresed = maximum - one_one ## where class is 1 attribute is 1\n",
    "\n",
    "print(zero_zero_to_be_incresed,one_zero_to_be_incresed,one_one_to_be_incresed)"
   ]
  },
  {
   "cell_type": "code",
   "execution_count": 13,
   "metadata": {},
   "outputs": [
    {
     "name": "stderr",
     "output_type": "stream",
     "text": [
      "<ipython-input-13-447533acff8e>:5: SettingWithCopyWarning: \n",
      "A value is trying to be set on a copy of a slice from a DataFrame.\n",
      "Try using .loc[row_indexer,col_indexer] = value instead\n",
      "\n",
      "See the caveats in the documentation: https://pandas.pydata.org/pandas-docs/stable/user_guide/indexing.html#returning-a-view-versus-a-copy\n",
      "  df_zero_zero['race'] = df_zero_zero['race'].astype(str)\n",
      "<ipython-input-13-447533acff8e>:6: SettingWithCopyWarning: \n",
      "A value is trying to be set on a copy of a slice from a DataFrame.\n",
      "Try using .loc[row_indexer,col_indexer] = value instead\n",
      "\n",
      "See the caveats in the documentation: https://pandas.pydata.org/pandas-docs/stable/user_guide/indexing.html#returning-a-view-versus-a-copy\n",
      "  df_zero_zero['sex'] = df_zero_zero['sex'].astype(str)\n",
      "<ipython-input-13-447533acff8e>:9: SettingWithCopyWarning: \n",
      "A value is trying to be set on a copy of a slice from a DataFrame.\n",
      "Try using .loc[row_indexer,col_indexer] = value instead\n",
      "\n",
      "See the caveats in the documentation: https://pandas.pydata.org/pandas-docs/stable/user_guide/indexing.html#returning-a-view-versus-a-copy\n",
      "  df_one_zero['race'] = df_one_zero['race'].astype(str)\n",
      "<ipython-input-13-447533acff8e>:10: SettingWithCopyWarning: \n",
      "A value is trying to be set on a copy of a slice from a DataFrame.\n",
      "Try using .loc[row_indexer,col_indexer] = value instead\n",
      "\n",
      "See the caveats in the documentation: https://pandas.pydata.org/pandas-docs/stable/user_guide/indexing.html#returning-a-view-versus-a-copy\n",
      "  df_one_zero['sex'] = df_one_zero['sex'].astype(str)\n",
      "<ipython-input-13-447533acff8e>:12: SettingWithCopyWarning: \n",
      "A value is trying to be set on a copy of a slice from a DataFrame.\n",
      "Try using .loc[row_indexer,col_indexer] = value instead\n",
      "\n",
      "See the caveats in the documentation: https://pandas.pydata.org/pandas-docs/stable/user_guide/indexing.html#returning-a-view-versus-a-copy\n",
      "  df_one_one['race'] = df_one_one['race'].astype(str)\n",
      "<ipython-input-13-447533acff8e>:13: SettingWithCopyWarning: \n",
      "A value is trying to be set on a copy of a slice from a DataFrame.\n",
      "Try using .loc[row_indexer,col_indexer] = value instead\n",
      "\n",
      "See the caveats in the documentation: https://pandas.pydata.org/pandas-docs/stable/user_guide/indexing.html#returning-a-view-versus-a-copy\n",
      "  df_one_one['sex'] = df_one_one['sex'].astype(str)\n"
     ]
    }
   ],
   "source": [
    "df_zero_zero = dataset_orig_train[(dataset_orig_train['Probability'] == 0) & (dataset_orig_train[protected_attribute] == 0)]\n",
    "df_one_zero = dataset_orig_train[(dataset_orig_train['Probability'] == 1) & (dataset_orig_train[protected_attribute] == 0)]\n",
    "df_one_one = dataset_orig_train[(dataset_orig_train['Probability'] == 1) & (dataset_orig_train[protected_attribute] == 1)]\n",
    "\n",
    "df_zero_zero['race'] = df_zero_zero['race'].astype(str)\n",
    "df_zero_zero['sex'] = df_zero_zero['sex'].astype(str)\n",
    "\n",
    "\n",
    "df_one_zero['race'] = df_one_zero['race'].astype(str)\n",
    "df_one_zero['sex'] = df_one_zero['sex'].astype(str)\n",
    "\n",
    "df_one_one['race'] = df_one_one['race'].astype(str)\n",
    "df_one_one['sex'] = df_one_one['sex'].astype(str)\n",
    "\n",
    "\n",
    "df_zero_zero = generate_samples(zero_zero_to_be_incresed,df_zero_zero,'Adult')\n",
    "df_one_zero = generate_samples(one_zero_to_be_incresed,df_one_zero,'Adult')\n",
    "df_one_one = generate_samples(one_one_to_be_incresed,df_one_one,'Adult')"
   ]
  },
  {
   "cell_type": "markdown",
   "metadata": {},
   "source": [
    "# Append the dataframes"
   ]
  },
  {
   "cell_type": "code",
   "execution_count": 14,
   "metadata": {},
   "outputs": [],
   "source": [
    "df = df_zero_zero.append(df_one_zero)\n",
    "df = df.append(df_one_one)\n",
    "\n",
    "df['race'] = df['race'].astype(float)\n",
    "df['sex'] = df['sex'].astype(float)\n",
    "\n",
    "df_zero_one = dataset_orig_train[(dataset_orig_train['Probability'] == 0) & (dataset_orig_train[protected_attribute] == 1)]\n",
    "df = df.append(df_zero_one)"
   ]
  },
  {
   "cell_type": "markdown",
   "metadata": {},
   "source": [
    "# Check Score after oversampling"
   ]
  },
  {
   "cell_type": "code",
   "execution_count": 15,
   "metadata": {},
   "outputs": [
    {
     "name": "stdout",
     "output_type": "stream",
     "text": [
      "recall : 0.7\n",
      "far : 0.23\n",
      "precision : 0.49\n",
      "accuracy : 0.75\n",
      "F1 Score : 0.58\n",
      "aod :sex 0.0\n",
      "eod :sex 0.01\n",
      "SPD: 0.1\n",
      "DI: 0.26\n"
     ]
    }
   ],
   "source": [
    "X_train, y_train = df.loc[:, df.columns != 'Probability'], df['Probability']\n",
    "X_test , y_test = dataset_orig_test.loc[:, dataset_orig_test.columns != 'Probability'], dataset_orig_test['Probability']\n",
    "\n",
    "clf = LogisticRegression(C=1.0, penalty='l2', solver='liblinear', max_iter=100)\n",
    "\n",
    "\n",
    "\n",
    "print(\"recall :\", measure_final_score(dataset_orig_test, clf, X_train, y_train, X_test, y_test, protected_attribute, 'recall'))\n",
    "print(\"far :\",measure_final_score(dataset_orig_test, clf, X_train, y_train, X_test, y_test, protected_attribute, 'far'))\n",
    "print(\"precision :\", measure_final_score(dataset_orig_test, clf, X_train, y_train, X_test, y_test, protected_attribute, 'precision'))\n",
    "print(\"accuracy :\",measure_final_score(dataset_orig_test, clf, X_train, y_train, X_test, y_test, protected_attribute, 'accuracy'))\n",
    "print(\"F1 Score :\",measure_final_score(dataset_orig_test, clf, X_train, y_train, X_test, y_test, protected_attribute, 'F1'))\n",
    "print(\"aod :\"+protected_attribute,measure_final_score(dataset_orig_test, clf, X_train, y_train, X_test, y_test, protected_attribute, 'aod'))\n",
    "print(\"eod :\"+protected_attribute,measure_final_score(dataset_orig_test, clf, X_train, y_train, X_test, y_test, protected_attribute, 'eod'))\n",
    "\n",
    "print(\"SPD:\",measure_final_score(dataset_orig_test, clf, X_train, y_train, X_test, y_test, protected_attribute, 'SPD'))\n",
    "print(\"DI:\",measure_final_score(dataset_orig_test, clf, X_train, y_train, X_test, y_test, protected_attribute, 'DI'))"
   ]
  },
  {
   "cell_type": "markdown",
   "metadata": {},
   "source": [
    "# Verification "
   ]
  },
  {
   "cell_type": "code",
   "execution_count": 16,
   "metadata": {},
   "outputs": [
    {
     "name": "stdout",
     "output_type": "stream",
     "text": [
      "18177 18177 18177 18177\n"
     ]
    }
   ],
   "source": [
    "# first one is class value and second one is protected attribute value\n",
    "zero_zero = len(df[(df['Probability'] == 0) & (df[protected_attribute] == 0)])\n",
    "zero_one = len(df[(df['Probability'] == 0) & (df[protected_attribute] == 1)])\n",
    "one_zero = len(df[(df['Probability'] == 1) & (df[protected_attribute] == 0)])\n",
    "one_one = len(df[(df['Probability'] == 1) & (df[protected_attribute] == 1)])\n",
    "\n",
    "print(zero_zero,zero_one,one_zero,one_one)"
   ]
  },
  {
   "cell_type": "code",
   "execution_count": 17,
   "metadata": {},
   "outputs": [
    {
     "data": {
      "text/plain": [
       "(72708, 8)"
      ]
     },
     "execution_count": 17,
     "metadata": {},
     "output_type": "execute_result"
    }
   ],
   "source": [
    "df = df.reset_index(drop=True)\n",
    "df.shape"
   ]
  },
  {
   "cell_type": "markdown",
   "metadata": {},
   "source": [
    "# Removal of biased data points using situation testing\n",
    "\n",
    "## note: they are using LR model for situation testing"
   ]
  },
  {
   "cell_type": "code",
   "execution_count": 18,
   "metadata": {},
   "outputs": [
    {
     "name": "stdout",
     "output_type": "stream",
     "text": [
      "2012\n"
     ]
    }
   ],
   "source": [
    "X_train, y_train = df.loc[:, df.columns != 'Probability'], df['Probability']\n",
    "\n",
    "clf = LogisticRegression(C=1.0, penalty='l2', solver='liblinear', max_iter=100)\n",
    "clf.fit(X_train,y_train)\n",
    "removal_list = []\n",
    "\n",
    "for index,row in df.iterrows():\n",
    "    row_ = [row.values[0:len(row.values)-1]]    \n",
    "    y_normal = clf.predict(row_)\n",
    "    # Here protected attribute value gets switched\n",
    "    if row_[0][3] == 0: ## index of Sex is 3, Race is 2\n",
    "        row_[0][3] = 1\n",
    "    else:\n",
    "        row_[0][3] = 0    \n",
    "    y_reverse = clf.predict(row_)\n",
    "    if y_normal[0] != y_reverse[0]:\n",
    "        removal_list.append(index)\n",
    "\n",
    "removal_list = set(removal_list)\n",
    "print(len(removal_list))"
   ]
  },
  {
   "cell_type": "code",
   "execution_count": 19,
   "metadata": {},
   "outputs": [
    {
     "name": "stdout",
     "output_type": "stream",
     "text": [
      "(72708, 8)\n",
      "(70696, 8)\n"
     ]
    }
   ],
   "source": [
    "print(df.shape)\n",
    "df_removed = pd.DataFrame(columns=df.columns)\n",
    "\n",
    "for index,row in df.iterrows():\n",
    "    if index in removal_list:        \n",
    "        df_removed = df_removed.append(row, ignore_index=True)\n",
    "        df = df.drop(index)\n",
    "print(df.shape)"
   ]
  },
  {
   "cell_type": "code",
   "execution_count": 20,
   "metadata": {},
   "outputs": [
    {
     "name": "stdout",
     "output_type": "stream",
     "text": [
      "17711 17734 17660 17591\n"
     ]
    }
   ],
   "source": [
    "# first one is class value and second one is protected attribute value\n",
    "zero_zero = len(df[(df['Probability'] == 0) & (df[protected_attribute] == 0)])\n",
    "zero_one = len(df[(df['Probability'] == 0) & (df[protected_attribute] == 1)])\n",
    "one_zero = len(df[(df['Probability'] == 1) & (df[protected_attribute] == 0)])\n",
    "one_one = len(df[(df['Probability'] == 1) & (df[protected_attribute] == 1)])\n",
    "\n",
    "print(zero_zero,zero_one,one_zero,one_one)"
   ]
  },
  {
   "cell_type": "markdown",
   "metadata": {},
   "source": [
    "# Check Score after Removal"
   ]
  },
  {
   "cell_type": "code",
   "execution_count": 21,
   "metadata": {},
   "outputs": [
    {
     "name": "stdout",
     "output_type": "stream",
     "text": [
      "recall : 0.73\n",
      "far : 0.24\n",
      "precision : 0.49\n",
      "accuracy : 0.75\n",
      "F1 Score : 0.59\n",
      "aod :sex -0.0\n",
      "eod :sex 0.05\n",
      "SPD: 0.15\n",
      "DI: 0.37\n"
     ]
    }
   ],
   "source": [
    "X_train, y_train = df.loc[:, df.columns != 'Probability'], df['Probability']\n",
    "X_test , y_test = dataset_orig_test.loc[:, dataset_orig_test.columns != 'Probability'], dataset_orig_test['Probability']\n",
    "\n",
    "clf = LogisticRegression(C=1.0, penalty='l2', solver='liblinear', max_iter=100)\n",
    "\n",
    "\n",
    "\n",
    "print(\"recall :\", measure_final_score(dataset_orig_test, clf, X_train, y_train, X_test, y_test, protected_attribute, 'recall'))\n",
    "print(\"far :\",measure_final_score(dataset_orig_test, clf, X_train, y_train, X_test, y_test, protected_attribute, 'far'))\n",
    "print(\"precision :\", measure_final_score(dataset_orig_test, clf, X_train, y_train, X_test, y_test, protected_attribute, 'precision'))\n",
    "print(\"accuracy :\",measure_final_score(dataset_orig_test, clf, X_train, y_train, X_test, y_test, protected_attribute, 'accuracy'))\n",
    "print(\"F1 Score :\",measure_final_score(dataset_orig_test, clf, X_train, y_train, X_test, y_test, protected_attribute, 'F1'))\n",
    "print(\"aod :\"+protected_attribute,measure_final_score(dataset_orig_test, clf, X_train, y_train, X_test, y_test, protected_attribute, 'aod'))\n",
    "print(\"eod :\"+protected_attribute,measure_final_score(dataset_orig_test, clf, X_train, y_train, X_test, y_test, protected_attribute, 'eod'))\n",
    "\n",
    "print(\"SPD:\",measure_final_score(dataset_orig_test, clf, X_train, y_train, X_test, y_test, protected_attribute, 'SPD'))\n",
    "print(\"DI:\",measure_final_score(dataset_orig_test, clf, X_train, y_train, X_test, y_test, protected_attribute, 'DI'))"
   ]
  },
  {
   "cell_type": "code",
   "execution_count": null,
   "metadata": {},
   "outputs": [],
   "source": []
  },
  {
   "cell_type": "markdown",
   "metadata": {},
   "source": [
    "## flip rate after their removal"
   ]
  },
  {
   "cell_type": "code",
   "execution_count": 22,
   "metadata": {},
   "outputs": [
    {
     "data": {
      "text/plain": [
       "231"
      ]
     },
     "execution_count": 22,
     "metadata": {},
     "output_type": "execute_result"
    }
   ],
   "source": [
    "clf = LogisticRegression(C=1.0, penalty='l2', solver='liblinear', max_iter=100) # LSR\n",
    "clf.fit(X_train, y_train)\n",
    "\n",
    "X_train_flipped = X_train.copy()\n",
    "X_train_flipped['sex'] = 1 - X_train['sex']\n",
    "\n",
    "y_org = clf.predict(X_train)\n",
    "y_flp = clf.predict(X_train_flipped)\n",
    "\n",
    "mismatches = (y_org != y_flp).sum()\n",
    "mismatches"
   ]
  },
  {
   "cell_type": "code",
   "execution_count": 23,
   "metadata": {},
   "outputs": [
    {
     "data": {
      "text/plain": [
       "275"
      ]
     },
     "execution_count": 23,
     "metadata": {},
     "output_type": "execute_result"
    }
   ],
   "source": [
    "X_test_flipped = X_test.copy()\n",
    "X_test_flipped['sex'] = 1 - X_test['sex']\n",
    "\n",
    "y_org = clf.predict(X_test)\n",
    "y_flp = clf.predict(X_test_flipped)\n",
    "\n",
    "mismatches = (y_org != y_flp).sum()\n",
    "mismatches"
   ]
  },
  {
   "cell_type": "markdown",
   "metadata": {},
   "source": [
    "## now for gb"
   ]
  },
  {
   "cell_type": "code",
   "execution_count": 24,
   "metadata": {},
   "outputs": [
    {
     "data": {
      "text/plain": [
       "5953"
      ]
     },
     "execution_count": 24,
     "metadata": {},
     "output_type": "execute_result"
    }
   ],
   "source": [
    "clf = GradientBoostingClassifier(n_estimators=50, max_depth=8, random_state=1234)\n",
    "clf.fit(X_train, y_train)\n",
    "\n",
    "X_train_flipped = X_train.copy()\n",
    "X_train_flipped['sex'] = 1 - X_train['sex']\n",
    "\n",
    "y_org = clf.predict(X_train)\n",
    "y_flp = clf.predict(X_train_flipped)\n",
    "\n",
    "mismatches = (y_org != y_flp).sum()\n",
    "mismatches"
   ]
  },
  {
   "cell_type": "code",
   "execution_count": 25,
   "metadata": {},
   "outputs": [
    {
     "data": {
      "text/plain": [
       "781"
      ]
     },
     "execution_count": 25,
     "metadata": {},
     "output_type": "execute_result"
    }
   ],
   "source": [
    "X_test_flipped = X_test.copy()\n",
    "X_test_flipped['sex'] = 1 - X_test['sex']\n",
    "\n",
    "y_org = clf.predict(X_test)\n",
    "y_flp = clf.predict(X_test_flipped)\n",
    "\n",
    "mismatches = (y_org != y_flp).sum()\n",
    "mismatches"
   ]
  },
  {
   "cell_type": "markdown",
   "metadata": {},
   "source": [
    "## conclusion:\n",
    "- Disc. samples reduced for LR (same model with what they did situation testing), but increased for the other model GB."
   ]
  },
  {
   "cell_type": "code",
   "execution_count": null,
   "metadata": {},
   "outputs": [],
   "source": []
  }
 ],
 "metadata": {
  "kernelspec": {
   "display_name": "Python 3",
   "language": "python",
   "name": "python3"
  },
  "language_info": {
   "codemirror_mode": {
    "name": "ipython",
    "version": 3
   },
   "file_extension": ".py",
   "mimetype": "text/x-python",
   "name": "python",
   "nbconvert_exporter": "python",
   "pygments_lexer": "ipython3",
   "version": "3.8.9"
  }
 },
 "nbformat": 4,
 "nbformat_minor": 2
}
